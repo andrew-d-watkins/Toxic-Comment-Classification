{
 "cells": [
  {
   "cell_type": "markdown",
   "metadata": {},
   "source": [
    "# Toxic Comment Classification"
   ]
  },
  {
   "cell_type": "markdown",
   "metadata": {},
   "source": [
    "## Table of Contents\n",
    "\n",
    "1. [Introduction](#introduction)\n",
    "2. [The Data](#data)    \n",
    "    - [File Description](#file)\n",
    "3. [Data Wrangling](#wrangling)\n",
    "4. [Clean the Comments](#clean)\n",
    "4. [Exploratory Data Analysis](#eda)\n",
    "    * [Tags](#tags)\n",
    "    * [Word Frequency with Word Cloud](#wordcloud)\n",
    "    * [Comment Analyis](#com_analysis)"
   ]
  },
  {
   "cell_type": "markdown",
   "metadata": {},
   "source": [
    "# <a name=\"introduction\"></a>Introduction\n",
    "---\n",
    "\n",
    "Being anonymous over the internet can sometimes make people say nasty things that they normally would not in real life. The threat of abuse and harassment online means that many people stop expressing themselves and give up on seeking different opinions. Platforms struggle to effectively facilitate conversations, leading many communities to limit or completely shut down user comments. Current models don’t allow users to select which types of toxicity they’re interested in finding (e.g. some platforms may be fine with profanity, but not with other types of toxic content). The goal is to build a multi-headed model that’s capable of detecting different types of toxicity like threats, obscenity, insults, and identity-based hate. "
   ]
  },
  {
   "cell_type": "markdown",
   "metadata": {},
   "source": [
    "# <a name=\"data\"></a>The Data\n",
    "---\n",
    "\n",
    "The dataset here is from wiki corpus dataset which was rated by human raters for toxicity. The corpus contains 63M comments from discussions relating to user pages and articles dating from 2004-2015.\n",
    "\n",
    "Different platforms/sites can have different standards for their toxic screening process. Hence the comments are tagged in the following five categories\n",
    "\n",
    "* toxic\n",
    "* severe_toxic\n",
    "* obscene\n",
    "* threat\n",
    "* insult\n",
    "* identity_hate\n",
    "\n",
    "\n",
    "### <a name=\"file\"></a> File descriptions\n",
    "\n",
    "* **train.csv** - the training set, contains comments with their binary labels\n",
    "* **test.csv** - the test set, used to predict the toxicity probabilities for these comments. To deter hand labeling, the test set contains some comments which are not included in scoring."
   ]
  },
  {
   "cell_type": "markdown",
   "metadata": {},
   "source": [
    "# <a name=\"wrangling\"></a>Data Wrangling\n",
    "---\n",
    "\n",
    "In this section I am going to load the dataset and look at the columns and some basic DataFrame info."
   ]
  },
  {
   "cell_type": "code",
   "execution_count": 1,
   "metadata": {},
   "outputs": [],
   "source": [
    "import pandas as pd"
   ]
  },
  {
   "cell_type": "code",
   "execution_count": 2,
   "metadata": {},
   "outputs": [],
   "source": [
    "#declare the path of the data\n",
    "test_data_location = 'data/test.csv'\n",
    "train_data_location = 'data/train.csv'\n",
    "\n",
    "#import the data as a DataFramae with 'id' as the index\n",
    "train_df = pd.read_csv(train_data_location, index_col='id')"
   ]
  },
  {
   "cell_type": "code",
   "execution_count": 3,
   "metadata": {},
   "outputs": [
    {
     "data": {
      "text/html": [
       "<div>\n",
       "<style scoped>\n",
       "    .dataframe tbody tr th:only-of-type {\n",
       "        vertical-align: middle;\n",
       "    }\n",
       "\n",
       "    .dataframe tbody tr th {\n",
       "        vertical-align: top;\n",
       "    }\n",
       "\n",
       "    .dataframe thead th {\n",
       "        text-align: right;\n",
       "    }\n",
       "</style>\n",
       "<table border=\"1\" class=\"dataframe\">\n",
       "  <thead>\n",
       "    <tr style=\"text-align: right;\">\n",
       "      <th></th>\n",
       "      <th>comment_text</th>\n",
       "      <th>toxic</th>\n",
       "      <th>severe_toxic</th>\n",
       "      <th>obscene</th>\n",
       "      <th>threat</th>\n",
       "      <th>insult</th>\n",
       "      <th>identity_hate</th>\n",
       "    </tr>\n",
       "    <tr>\n",
       "      <th>id</th>\n",
       "      <th></th>\n",
       "      <th></th>\n",
       "      <th></th>\n",
       "      <th></th>\n",
       "      <th></th>\n",
       "      <th></th>\n",
       "      <th></th>\n",
       "    </tr>\n",
       "  </thead>\n",
       "  <tbody>\n",
       "    <tr>\n",
       "      <th>0000997932d777bf</th>\n",
       "      <td>Explanation\\nWhy the edits made under my usern...</td>\n",
       "      <td>0</td>\n",
       "      <td>0</td>\n",
       "      <td>0</td>\n",
       "      <td>0</td>\n",
       "      <td>0</td>\n",
       "      <td>0</td>\n",
       "    </tr>\n",
       "    <tr>\n",
       "      <th>000103f0d9cfb60f</th>\n",
       "      <td>D'aww! He matches this background colour I'm s...</td>\n",
       "      <td>0</td>\n",
       "      <td>0</td>\n",
       "      <td>0</td>\n",
       "      <td>0</td>\n",
       "      <td>0</td>\n",
       "      <td>0</td>\n",
       "    </tr>\n",
       "    <tr>\n",
       "      <th>000113f07ec002fd</th>\n",
       "      <td>Hey man, I'm really not trying to edit war. It...</td>\n",
       "      <td>0</td>\n",
       "      <td>0</td>\n",
       "      <td>0</td>\n",
       "      <td>0</td>\n",
       "      <td>0</td>\n",
       "      <td>0</td>\n",
       "    </tr>\n",
       "    <tr>\n",
       "      <th>0001b41b1c6bb37e</th>\n",
       "      <td>\"\\nMore\\nI can't make any real suggestions on ...</td>\n",
       "      <td>0</td>\n",
       "      <td>0</td>\n",
       "      <td>0</td>\n",
       "      <td>0</td>\n",
       "      <td>0</td>\n",
       "      <td>0</td>\n",
       "    </tr>\n",
       "    <tr>\n",
       "      <th>0001d958c54c6e35</th>\n",
       "      <td>You, sir, are my hero. Any chance you remember...</td>\n",
       "      <td>0</td>\n",
       "      <td>0</td>\n",
       "      <td>0</td>\n",
       "      <td>0</td>\n",
       "      <td>0</td>\n",
       "      <td>0</td>\n",
       "    </tr>\n",
       "  </tbody>\n",
       "</table>\n",
       "</div>"
      ],
      "text/plain": [
       "                                                       comment_text  toxic  \\\n",
       "id                                                                           \n",
       "0000997932d777bf  Explanation\\nWhy the edits made under my usern...      0   \n",
       "000103f0d9cfb60f  D'aww! He matches this background colour I'm s...      0   \n",
       "000113f07ec002fd  Hey man, I'm really not trying to edit war. It...      0   \n",
       "0001b41b1c6bb37e  \"\\nMore\\nI can't make any real suggestions on ...      0   \n",
       "0001d958c54c6e35  You, sir, are my hero. Any chance you remember...      0   \n",
       "\n",
       "                  severe_toxic  obscene  threat  insult  identity_hate  \n",
       "id                                                                      \n",
       "0000997932d777bf             0        0       0       0              0  \n",
       "000103f0d9cfb60f             0        0       0       0              0  \n",
       "000113f07ec002fd             0        0       0       0              0  \n",
       "0001b41b1c6bb37e             0        0       0       0              0  \n",
       "0001d958c54c6e35             0        0       0       0              0  "
      ]
     },
     "execution_count": 3,
     "metadata": {},
     "output_type": "execute_result"
    }
   ],
   "source": [
    "#Look at some values in the train DF\n",
    "train_df.head()"
   ]
  },
  {
   "cell_type": "code",
   "execution_count": 4,
   "metadata": {},
   "outputs": [
    {
     "name": "stdout",
     "output_type": "stream",
     "text": [
      "<class 'pandas.core.frame.DataFrame'>\n",
      "Index: 159571 entries, 0000997932d777bf to fff46fc426af1f9a\n",
      "Data columns (total 7 columns):\n",
      "comment_text     159571 non-null object\n",
      "toxic            159571 non-null int64\n",
      "severe_toxic     159571 non-null int64\n",
      "obscene          159571 non-null int64\n",
      "threat           159571 non-null int64\n",
      "insult           159571 non-null int64\n",
      "identity_hate    159571 non-null int64\n",
      "dtypes: int64(6), object(1)\n",
      "memory usage: 9.7+ MB\n"
     ]
    }
   ],
   "source": [
    "#look at the info of the train DF and its columns\n",
    "train_df.info()"
   ]
  },
  {
   "cell_type": "code",
   "execution_count": 5,
   "metadata": {},
   "outputs": [],
   "source": [
    "#fill in any null values\n",
    "train_df[\"comment_text\"].fillna(\"unknown\", inplace=True)"
   ]
  },
  {
   "cell_type": "markdown",
   "metadata": {},
   "source": [
    "Now I will create a new DF that will hold stats on the comments such as word counts. This DF will be used later to do some EDA on the comments. This is done before we clean the comments because some features such as puntuation and stopwords will be removed."
   ]
  },
  {
   "cell_type": "markdown",
   "metadata": {},
   "source": [
    "# <a name=\"eda\"></a>Exploratory Data Analysis\n",
    "---\n",
    "\n",
    "Now that the data is loaded I need to do some EDA. I am going to first look at the tags and then the comments themselves. "
   ]
  },
  {
   "cell_type": "markdown",
   "metadata": {},
   "source": [
    "## <a name=\"tags\"></a>Tag Analysis\n",
    "---"
   ]
  },
  {
   "cell_type": "code",
   "execution_count": 6,
   "metadata": {},
   "outputs": [],
   "source": [
    "import matplotlib.pyplot as plt\n",
    "import seaborn as sns"
   ]
  },
  {
   "cell_type": "code",
   "execution_count": 7,
   "metadata": {},
   "outputs": [
    {
     "name": "stdout",
     "output_type": "stream",
     "text": [
      "toxic            15294\n",
      "severe_toxic      1595\n",
      "obscene           8449\n",
      "threat             478\n",
      "insult            7877\n",
      "identity_hate     1405\n",
      "dtype: int64\n"
     ]
    }
   ],
   "source": [
    "count_labels = train_df.iloc[:,1:].sum()\n",
    "print(count_labels)"
   ]
  },
  {
   "cell_type": "code",
   "execution_count": 8,
   "metadata": {},
   "outputs": [
    {
     "name": "stdout",
     "output_type": "stream",
     "text": [
      "Total tags:  35098\n",
      "Total comments:  159571\n"
     ]
    }
   ],
   "source": [
    "print('Total tags: ', count_labels.sum())\n",
    "print('Total comments: ', len(train_df))"
   ]
  },
  {
   "cell_type": "markdown",
   "metadata": {},
   "source": [
    "Not all comments have been tagged with one of the available tags, this indicates that the comment is not toxic. I am going to create a new column to tag these comments. "
   ]
  },
  {
   "cell_type": "code",
   "execution_count": 9,
   "metadata": {},
   "outputs": [
    {
     "data": {
      "text/html": [
       "<div>\n",
       "<style scoped>\n",
       "    .dataframe tbody tr th:only-of-type {\n",
       "        vertical-align: middle;\n",
       "    }\n",
       "\n",
       "    .dataframe tbody tr th {\n",
       "        vertical-align: top;\n",
       "    }\n",
       "\n",
       "    .dataframe thead th {\n",
       "        text-align: right;\n",
       "    }\n",
       "</style>\n",
       "<table border=\"1\" class=\"dataframe\">\n",
       "  <thead>\n",
       "    <tr style=\"text-align: right;\">\n",
       "      <th></th>\n",
       "      <th>comment_text</th>\n",
       "      <th>toxic</th>\n",
       "      <th>severe_toxic</th>\n",
       "      <th>obscene</th>\n",
       "      <th>threat</th>\n",
       "      <th>insult</th>\n",
       "      <th>identity_hate</th>\n",
       "      <th>non_toxic</th>\n",
       "    </tr>\n",
       "    <tr>\n",
       "      <th>id</th>\n",
       "      <th></th>\n",
       "      <th></th>\n",
       "      <th></th>\n",
       "      <th></th>\n",
       "      <th></th>\n",
       "      <th></th>\n",
       "      <th></th>\n",
       "      <th></th>\n",
       "    </tr>\n",
       "  </thead>\n",
       "  <tbody>\n",
       "    <tr>\n",
       "      <th>0000997932d777bf</th>\n",
       "      <td>Explanation\\nWhy the edits made under my usern...</td>\n",
       "      <td>0</td>\n",
       "      <td>0</td>\n",
       "      <td>0</td>\n",
       "      <td>0</td>\n",
       "      <td>0</td>\n",
       "      <td>0</td>\n",
       "      <td>1</td>\n",
       "    </tr>\n",
       "    <tr>\n",
       "      <th>000103f0d9cfb60f</th>\n",
       "      <td>D'aww! He matches this background colour I'm s...</td>\n",
       "      <td>0</td>\n",
       "      <td>0</td>\n",
       "      <td>0</td>\n",
       "      <td>0</td>\n",
       "      <td>0</td>\n",
       "      <td>0</td>\n",
       "      <td>1</td>\n",
       "    </tr>\n",
       "    <tr>\n",
       "      <th>000113f07ec002fd</th>\n",
       "      <td>Hey man, I'm really not trying to edit war. It...</td>\n",
       "      <td>0</td>\n",
       "      <td>0</td>\n",
       "      <td>0</td>\n",
       "      <td>0</td>\n",
       "      <td>0</td>\n",
       "      <td>0</td>\n",
       "      <td>1</td>\n",
       "    </tr>\n",
       "    <tr>\n",
       "      <th>0001b41b1c6bb37e</th>\n",
       "      <td>\"\\nMore\\nI can't make any real suggestions on ...</td>\n",
       "      <td>0</td>\n",
       "      <td>0</td>\n",
       "      <td>0</td>\n",
       "      <td>0</td>\n",
       "      <td>0</td>\n",
       "      <td>0</td>\n",
       "      <td>1</td>\n",
       "    </tr>\n",
       "    <tr>\n",
       "      <th>0001d958c54c6e35</th>\n",
       "      <td>You, sir, are my hero. Any chance you remember...</td>\n",
       "      <td>0</td>\n",
       "      <td>0</td>\n",
       "      <td>0</td>\n",
       "      <td>0</td>\n",
       "      <td>0</td>\n",
       "      <td>0</td>\n",
       "      <td>1</td>\n",
       "    </tr>\n",
       "  </tbody>\n",
       "</table>\n",
       "</div>"
      ],
      "text/plain": [
       "                                                       comment_text  toxic  \\\n",
       "id                                                                           \n",
       "0000997932d777bf  Explanation\\nWhy the edits made under my usern...      0   \n",
       "000103f0d9cfb60f  D'aww! He matches this background colour I'm s...      0   \n",
       "000113f07ec002fd  Hey man, I'm really not trying to edit war. It...      0   \n",
       "0001b41b1c6bb37e  \"\\nMore\\nI can't make any real suggestions on ...      0   \n",
       "0001d958c54c6e35  You, sir, are my hero. Any chance you remember...      0   \n",
       "\n",
       "                  severe_toxic  obscene  threat  insult  identity_hate  \\\n",
       "id                                                                       \n",
       "0000997932d777bf             0        0       0       0              0   \n",
       "000103f0d9cfb60f             0        0       0       0              0   \n",
       "000113f07ec002fd             0        0       0       0              0   \n",
       "0001b41b1c6bb37e             0        0       0       0              0   \n",
       "0001d958c54c6e35             0        0       0       0              0   \n",
       "\n",
       "                  non_toxic  \n",
       "id                           \n",
       "0000997932d777bf          1  \n",
       "000103f0d9cfb60f          1  \n",
       "000113f07ec002fd          1  \n",
       "0001b41b1c6bb37e          1  \n",
       "0001d958c54c6e35          1  "
      ]
     },
     "execution_count": 9,
     "metadata": {},
     "output_type": "execute_result"
    }
   ],
   "source": [
    "#add up the tags for each comment.\n",
    "rowsums = train_df.iloc[:,1:].sum(axis=1)\n",
    "\n",
    "#if the comment has no tags then it is non-toxic\n",
    "train_df['non_toxic'] = (rowsums==0) #is there a way to add it as 1 or 0 off the bat?\n",
    "\n",
    "#convert the boolean column to 1 or 0\n",
    "train_df = train_df.applymap(lambda x: 1 if x == True else x)\n",
    "train_df = train_df.applymap(lambda x: 0 if x == False else x)\n",
    "\n",
    "train_df.head()"
   ]
  },
  {
   "cell_type": "code",
   "execution_count": 10,
   "metadata": {},
   "outputs": [
    {
     "name": "stdout",
     "output_type": "stream",
     "text": [
      "threat            0.299553\n",
      "identity_hate     0.880486\n",
      "severe_toxic      0.999555\n",
      "insult            4.936361\n",
      "obscene           5.294822\n",
      "toxic             9.584448\n",
      "non_toxic        89.832112\n",
      "dtype: float64\n"
     ]
    }
   ],
   "source": [
    "#update the count labels\n",
    "count_labels = train_df.iloc[:,1:].sum()\n",
    "count_labels = count_labels.sort_values()\n",
    "print(count_labels*100/len(train_df))"
   ]
  },
  {
   "cell_type": "code",
   "execution_count": 11,
   "metadata": {},
   "outputs": [
    {
     "data": {
      "image/png": "[encoded data removed]",
      "text/plain": [
       "<Figure size 1440x720 with 1 Axes>"
      ]
     },
     "metadata": {
      "needs_background": "light"
     },
     "output_type": "display_data"
    }
   ],
   "source": [
    "#plot the total to have a better look\n",
    "fig, ax = plt.subplots(figsize=(20,10))\n",
    "sns.barplot(count_labels.index, count_labels.values)\n",
    "plt.title(\"The Total Count of Each Tag\", fontsize=20)\n",
    "plt.ylabel('Count', fontsize=18)\n",
    "plt.xlabel('Tag', fontsize=18)\n",
    "plt.ylim(0,len(train_df))\n",
    "\n",
    "#add the count to the tags\n",
    "rects = ax.patches\n",
    "labels = count_labels.values\n",
    "for rect, label in zip(rects, labels):\n",
    "    height = rect.get_height()\n",
    "    ax.text(rect.get_x() + rect.get_width()/2, height + 5, label, ha='center', va='bottom', fontsize=18)\n",
    "plt.show()"
   ]
  },
  {
   "cell_type": "code",
   "execution_count": 12,
   "metadata": {},
   "outputs": [
    {
     "name": "stdout",
     "output_type": "stream",
     "text": [
      "Total tags:  178444\n",
      "Total comments:  159571\n"
     ]
    }
   ],
   "source": [
    "#Check the total tags and comments again\n",
    "print('Total tags: ', count_labels.sum())\n",
    "print('Total comments: ', len(train_df))"
   ]
  },
  {
   "cell_type": "markdown",
   "metadata": {},
   "source": [
    "There are more tags than total comments, this is most likely due to some comments having multiple tags. I will double check this now."
   ]
  },
  {
   "cell_type": "code",
   "execution_count": 13,
   "metadata": {},
   "outputs": [
    {
     "data": {
      "image/png": "[encoded data removed]",
      "text/plain": [
       "<Figure size 1440x720 with 1 Axes>"
      ]
     },
     "metadata": {
      "needs_background": "light"
     },
     "output_type": "display_data"
    }
   ],
   "source": [
    "#plot the total count of each \n",
    "tag_count = train_df.iloc[:,1:].sum(axis=1).value_counts()\n",
    "fig, ax = plt.subplots(figsize=(20,10))\n",
    "sns.barplot(tag_count.index, tag_count.values)\n",
    "plt.title(\"The Number Tags in each comment\", fontsize=20)\n",
    "plt.ylabel('Count', fontsize=18)\n",
    "plt.xlabel('Number of Tags', fontsize=18)\n",
    "plt.ylim(0,len(train_df))\n",
    "\n",
    "#adding the text labels\n",
    "rects = ax.patches\n",
    "labels = tag_count.values\n",
    "for rect, label in zip(rects, labels):\n",
    "    height = rect.get_height()\n",
    "    ax.text(rect.get_x() + rect.get_width()/2, height + 5, label, ha='center', va='bottom', fontsize=18)\n",
    "\n",
    "plt.show()"
   ]
  },
  {
   "cell_type": "markdown",
   "metadata": {},
   "source": [
    "Indeed there are a lot of comments that have several tags."
   ]
  },
  {
   "cell_type": "markdown",
   "metadata": {},
   "source": [
    "## <a name=\"com_analysis\"></a> Comment Analysis\n",
    "---\n",
    "Now in this section I am going to explore the comments themselves. To do this I am going to create a new DataFrame in which I am going to store the statistcs of each comments. The stats I am going to gather are the following:\n",
    "1. sentence count\n",
    "2. word count\n",
    "3. unique word count\n",
    "4. letter count\n",
    "5. punctuation count\n",
    "6. upper word count\n",
    "7. title word count\n",
    "8. stopwords count\n",
    "9. mean word length\n",
    "10. unique word percentage\n",
    "11. punctuation percentage"
   ]
  },
  {
   "cell_type": "code",
   "execution_count": 50,
   "metadata": {},
   "outputs": [],
   "source": [
    "#import required packages\n",
    "import re as regex\n",
    "import string\n",
    "import numpy as np\n",
    "import matplotlib.gridspec as gridspec \n",
    "\n",
    "#import nltk\n",
    "from nltk.corpus import stopwords\n",
    "\n",
    "eng_stopwords = set(stopwords.words(\"english\"))"
   ]
  },
  {
   "cell_type": "code",
   "execution_count": 15,
   "metadata": {},
   "outputs": [],
   "source": [
    "#Create the DF\n",
    "stats_df = train_df.iloc[:,1:]\n",
    "\n",
    "#Sentense count\n",
    "stats_df['count_sent'] = train_df[\"comment_text\"].apply(lambda x: len(regex.findall(\"\\n\",str(x)))+1)\n",
    "\n",
    "#Word count\n",
    "stats_df['count_word'] = train_df[\"comment_text\"].apply(lambda x: len(str(x).split()))\n",
    "\n",
    "#Unique word count\n",
    "stats_df['count_unique_word'] = train_df[\"comment_text\"].apply(lambda x: len(set(str(x).split())))\n",
    "\n",
    "#Letter count\n",
    "stats_df['count_letters'] = train_df[\"comment_text\"].apply(lambda x: len(str(x)))\n",
    "\n",
    "#punctuation count\n",
    "stats_df[\"count_punctuations\"] = train_df[\"comment_text\"].apply(lambda x: len([c for c in str(x) if c in string.punctuation]))\n",
    "\n",
    "#upper case words count\n",
    "stats_df[\"count_words_upper\"] = train_df[\"comment_text\"].apply(lambda x: len([w for w in str(x).split() if w.isupper()]))\n",
    "\n",
    "#title case words count\n",
    "stats_df[\"count_words_title\"] = train_df[\"comment_text\"].apply(lambda x: len([w for w in str(x).split() if w.istitle()]))\n",
    "\n",
    "#Number of stopwords\n",
    "stats_df[\"count_stopwords\"] = train_df[\"comment_text\"].apply(lambda x: len([w for w in str(x).lower().split() if w in eng_stopwords]))\n",
    "\n",
    "#Average length of the words\n",
    "stats_df[\"mean_word_len\"] = train_df[\"comment_text\"].apply(lambda x: np.mean([len(w) for w in str(x).split()]))\n",
    "\n",
    "#Word count percent\n",
    "stats_df['word_unique_percent'] = stats_df['count_unique_word']*100/stats_df['count_word']\n",
    "\n",
    "#Punctuation percent\n",
    "stats_df['punct_percent'] = stats_df['count_punctuations']*100/stats_df['count_word']"
   ]
  },
  {
   "cell_type": "code",
   "execution_count": 16,
   "metadata": {},
   "outputs": [
    {
     "data": {
      "text/html": [
       "<div>\n",
       "<style scoped>\n",
       "    .dataframe tbody tr th:only-of-type {\n",
       "        vertical-align: middle;\n",
       "    }\n",
       "\n",
       "    .dataframe tbody tr th {\n",
       "        vertical-align: top;\n",
       "    }\n",
       "\n",
       "    .dataframe thead th {\n",
       "        text-align: right;\n",
       "    }\n",
       "</style>\n",
       "<table border=\"1\" class=\"dataframe\">\n",
       "  <thead>\n",
       "    <tr style=\"text-align: right;\">\n",
       "      <th></th>\n",
       "      <th>toxic</th>\n",
       "      <th>severe_toxic</th>\n",
       "      <th>obscene</th>\n",
       "      <th>threat</th>\n",
       "      <th>insult</th>\n",
       "      <th>identity_hate</th>\n",
       "      <th>non_toxic</th>\n",
       "      <th>count_sent</th>\n",
       "      <th>count_word</th>\n",
       "      <th>count_unique_word</th>\n",
       "      <th>count_letters</th>\n",
       "      <th>count_punctuations</th>\n",
       "      <th>count_words_upper</th>\n",
       "      <th>count_words_title</th>\n",
       "      <th>count_stopwords</th>\n",
       "      <th>mean_word_len</th>\n",
       "      <th>word_unique_percent</th>\n",
       "      <th>punct_percent</th>\n",
       "    </tr>\n",
       "    <tr>\n",
       "      <th>id</th>\n",
       "      <th></th>\n",
       "      <th></th>\n",
       "      <th></th>\n",
       "      <th></th>\n",
       "      <th></th>\n",
       "      <th></th>\n",
       "      <th></th>\n",
       "      <th></th>\n",
       "      <th></th>\n",
       "      <th></th>\n",
       "      <th></th>\n",
       "      <th></th>\n",
       "      <th></th>\n",
       "      <th></th>\n",
       "      <th></th>\n",
       "      <th></th>\n",
       "      <th></th>\n",
       "      <th></th>\n",
       "    </tr>\n",
       "  </thead>\n",
       "  <tbody>\n",
       "    <tr>\n",
       "      <th>0000997932d777bf</th>\n",
       "      <td>0</td>\n",
       "      <td>0</td>\n",
       "      <td>0</td>\n",
       "      <td>0</td>\n",
       "      <td>0</td>\n",
       "      <td>0</td>\n",
       "      <td>1</td>\n",
       "      <td>2</td>\n",
       "      <td>43</td>\n",
       "      <td>41</td>\n",
       "      <td>264</td>\n",
       "      <td>10</td>\n",
       "      <td>2</td>\n",
       "      <td>11</td>\n",
       "      <td>18</td>\n",
       "      <td>5.162791</td>\n",
       "      <td>95.348837</td>\n",
       "      <td>23.255814</td>\n",
       "    </tr>\n",
       "    <tr>\n",
       "      <th>000103f0d9cfb60f</th>\n",
       "      <td>0</td>\n",
       "      <td>0</td>\n",
       "      <td>0</td>\n",
       "      <td>0</td>\n",
       "      <td>0</td>\n",
       "      <td>0</td>\n",
       "      <td>1</td>\n",
       "      <td>1</td>\n",
       "      <td>17</td>\n",
       "      <td>17</td>\n",
       "      <td>112</td>\n",
       "      <td>12</td>\n",
       "      <td>1</td>\n",
       "      <td>3</td>\n",
       "      <td>2</td>\n",
       "      <td>5.588235</td>\n",
       "      <td>100.000000</td>\n",
       "      <td>70.588235</td>\n",
       "    </tr>\n",
       "    <tr>\n",
       "      <th>000113f07ec002fd</th>\n",
       "      <td>0</td>\n",
       "      <td>0</td>\n",
       "      <td>0</td>\n",
       "      <td>0</td>\n",
       "      <td>0</td>\n",
       "      <td>0</td>\n",
       "      <td>1</td>\n",
       "      <td>1</td>\n",
       "      <td>42</td>\n",
       "      <td>39</td>\n",
       "      <td>233</td>\n",
       "      <td>6</td>\n",
       "      <td>0</td>\n",
       "      <td>2</td>\n",
       "      <td>20</td>\n",
       "      <td>4.571429</td>\n",
       "      <td>92.857143</td>\n",
       "      <td>14.285714</td>\n",
       "    </tr>\n",
       "    <tr>\n",
       "      <th>0001b41b1c6bb37e</th>\n",
       "      <td>0</td>\n",
       "      <td>0</td>\n",
       "      <td>0</td>\n",
       "      <td>0</td>\n",
       "      <td>0</td>\n",
       "      <td>0</td>\n",
       "      <td>1</td>\n",
       "      <td>5</td>\n",
       "      <td>113</td>\n",
       "      <td>82</td>\n",
       "      <td>622</td>\n",
       "      <td>21</td>\n",
       "      <td>5</td>\n",
       "      <td>7</td>\n",
       "      <td>56</td>\n",
       "      <td>4.486726</td>\n",
       "      <td>72.566372</td>\n",
       "      <td>18.584071</td>\n",
       "    </tr>\n",
       "    <tr>\n",
       "      <th>0001d958c54c6e35</th>\n",
       "      <td>0</td>\n",
       "      <td>0</td>\n",
       "      <td>0</td>\n",
       "      <td>0</td>\n",
       "      <td>0</td>\n",
       "      <td>0</td>\n",
       "      <td>1</td>\n",
       "      <td>1</td>\n",
       "      <td>13</td>\n",
       "      <td>13</td>\n",
       "      <td>67</td>\n",
       "      <td>5</td>\n",
       "      <td>0</td>\n",
       "      <td>2</td>\n",
       "      <td>5</td>\n",
       "      <td>4.230769</td>\n",
       "      <td>100.000000</td>\n",
       "      <td>38.461538</td>\n",
       "    </tr>\n",
       "  </tbody>\n",
       "</table>\n",
       "</div>"
      ],
      "text/plain": [
       "                  toxic  severe_toxic  obscene  threat  insult  identity_hate  \\\n",
       "id                                                                              \n",
       "0000997932d777bf      0             0        0       0       0              0   \n",
       "000103f0d9cfb60f      0             0        0       0       0              0   \n",
       "000113f07ec002fd      0             0        0       0       0              0   \n",
       "0001b41b1c6bb37e      0             0        0       0       0              0   \n",
       "0001d958c54c6e35      0             0        0       0       0              0   \n",
       "\n",
       "                  non_toxic  count_sent  count_word  count_unique_word  \\\n",
       "id                                                                       \n",
       "0000997932d777bf          1           2          43                 41   \n",
       "000103f0d9cfb60f          1           1          17                 17   \n",
       "000113f07ec002fd          1           1          42                 39   \n",
       "0001b41b1c6bb37e          1           5         113                 82   \n",
       "0001d958c54c6e35          1           1          13                 13   \n",
       "\n",
       "                  count_letters  count_punctuations  count_words_upper  \\\n",
       "id                                                                       \n",
       "0000997932d777bf            264                  10                  2   \n",
       "000103f0d9cfb60f            112                  12                  1   \n",
       "000113f07ec002fd            233                   6                  0   \n",
       "0001b41b1c6bb37e            622                  21                  5   \n",
       "0001d958c54c6e35             67                   5                  0   \n",
       "\n",
       "                  count_words_title  count_stopwords  mean_word_len  \\\n",
       "id                                                                    \n",
       "0000997932d777bf                 11               18       5.162791   \n",
       "000103f0d9cfb60f                  3                2       5.588235   \n",
       "000113f07ec002fd                  2               20       4.571429   \n",
       "0001b41b1c6bb37e                  7               56       4.486726   \n",
       "0001d958c54c6e35                  2                5       4.230769   \n",
       "\n",
       "                  word_unique_percent  punct_percent  \n",
       "id                                                    \n",
       "0000997932d777bf            95.348837      23.255814  \n",
       "000103f0d9cfb60f           100.000000      70.588235  \n",
       "000113f07ec002fd            92.857143      14.285714  \n",
       "0001b41b1c6bb37e            72.566372      18.584071  \n",
       "0001d958c54c6e35           100.000000      38.461538  "
      ]
     },
     "execution_count": 16,
     "metadata": {},
     "output_type": "execute_result"
    }
   ],
   "source": [
    "stats_df.head()"
   ]
  },
  {
   "cell_type": "markdown",
   "metadata": {},
   "source": [
    "The DataFrame is missing the 'non_toxic' tag we created earlier so we will go ahead and add it now."
   ]
  },
  {
   "cell_type": "code",
   "execution_count": 17,
   "metadata": {},
   "outputs": [
    {
     "data": {
      "text/html": [
       "<div>\n",
       "<style scoped>\n",
       "    .dataframe tbody tr th:only-of-type {\n",
       "        vertical-align: middle;\n",
       "    }\n",
       "\n",
       "    .dataframe tbody tr th {\n",
       "        vertical-align: top;\n",
       "    }\n",
       "\n",
       "    .dataframe thead th {\n",
       "        text-align: right;\n",
       "    }\n",
       "</style>\n",
       "<table border=\"1\" class=\"dataframe\">\n",
       "  <thead>\n",
       "    <tr style=\"text-align: right;\">\n",
       "      <th></th>\n",
       "      <th>toxic</th>\n",
       "      <th>severe_toxic</th>\n",
       "      <th>obscene</th>\n",
       "      <th>threat</th>\n",
       "      <th>insult</th>\n",
       "      <th>identity_hate</th>\n",
       "      <th>non_toxic</th>\n",
       "      <th>count_sent</th>\n",
       "      <th>count_word</th>\n",
       "      <th>count_unique_word</th>\n",
       "      <th>count_letters</th>\n",
       "      <th>count_punctuations</th>\n",
       "      <th>count_words_upper</th>\n",
       "      <th>count_words_title</th>\n",
       "      <th>count_stopwords</th>\n",
       "      <th>mean_word_len</th>\n",
       "      <th>word_unique_percent</th>\n",
       "      <th>punct_percent</th>\n",
       "    </tr>\n",
       "    <tr>\n",
       "      <th>id</th>\n",
       "      <th></th>\n",
       "      <th></th>\n",
       "      <th></th>\n",
       "      <th></th>\n",
       "      <th></th>\n",
       "      <th></th>\n",
       "      <th></th>\n",
       "      <th></th>\n",
       "      <th></th>\n",
       "      <th></th>\n",
       "      <th></th>\n",
       "      <th></th>\n",
       "      <th></th>\n",
       "      <th></th>\n",
       "      <th></th>\n",
       "      <th></th>\n",
       "      <th></th>\n",
       "      <th></th>\n",
       "    </tr>\n",
       "  </thead>\n",
       "  <tbody>\n",
       "    <tr>\n",
       "      <th>0000997932d777bf</th>\n",
       "      <td>0</td>\n",
       "      <td>0</td>\n",
       "      <td>0</td>\n",
       "      <td>0</td>\n",
       "      <td>0</td>\n",
       "      <td>0</td>\n",
       "      <td>1</td>\n",
       "      <td>2</td>\n",
       "      <td>43</td>\n",
       "      <td>41</td>\n",
       "      <td>264</td>\n",
       "      <td>10</td>\n",
       "      <td>2</td>\n",
       "      <td>11</td>\n",
       "      <td>18</td>\n",
       "      <td>5.162791</td>\n",
       "      <td>95.348837</td>\n",
       "      <td>23.255814</td>\n",
       "    </tr>\n",
       "    <tr>\n",
       "      <th>000103f0d9cfb60f</th>\n",
       "      <td>0</td>\n",
       "      <td>0</td>\n",
       "      <td>0</td>\n",
       "      <td>0</td>\n",
       "      <td>0</td>\n",
       "      <td>0</td>\n",
       "      <td>1</td>\n",
       "      <td>1</td>\n",
       "      <td>17</td>\n",
       "      <td>17</td>\n",
       "      <td>112</td>\n",
       "      <td>12</td>\n",
       "      <td>1</td>\n",
       "      <td>3</td>\n",
       "      <td>2</td>\n",
       "      <td>5.588235</td>\n",
       "      <td>100.000000</td>\n",
       "      <td>70.588235</td>\n",
       "    </tr>\n",
       "    <tr>\n",
       "      <th>000113f07ec002fd</th>\n",
       "      <td>0</td>\n",
       "      <td>0</td>\n",
       "      <td>0</td>\n",
       "      <td>0</td>\n",
       "      <td>0</td>\n",
       "      <td>0</td>\n",
       "      <td>1</td>\n",
       "      <td>1</td>\n",
       "      <td>42</td>\n",
       "      <td>39</td>\n",
       "      <td>233</td>\n",
       "      <td>6</td>\n",
       "      <td>0</td>\n",
       "      <td>2</td>\n",
       "      <td>20</td>\n",
       "      <td>4.571429</td>\n",
       "      <td>92.857143</td>\n",
       "      <td>14.285714</td>\n",
       "    </tr>\n",
       "    <tr>\n",
       "      <th>0001b41b1c6bb37e</th>\n",
       "      <td>0</td>\n",
       "      <td>0</td>\n",
       "      <td>0</td>\n",
       "      <td>0</td>\n",
       "      <td>0</td>\n",
       "      <td>0</td>\n",
       "      <td>1</td>\n",
       "      <td>5</td>\n",
       "      <td>113</td>\n",
       "      <td>82</td>\n",
       "      <td>622</td>\n",
       "      <td>21</td>\n",
       "      <td>5</td>\n",
       "      <td>7</td>\n",
       "      <td>56</td>\n",
       "      <td>4.486726</td>\n",
       "      <td>72.566372</td>\n",
       "      <td>18.584071</td>\n",
       "    </tr>\n",
       "    <tr>\n",
       "      <th>0001d958c54c6e35</th>\n",
       "      <td>0</td>\n",
       "      <td>0</td>\n",
       "      <td>0</td>\n",
       "      <td>0</td>\n",
       "      <td>0</td>\n",
       "      <td>0</td>\n",
       "      <td>1</td>\n",
       "      <td>1</td>\n",
       "      <td>13</td>\n",
       "      <td>13</td>\n",
       "      <td>67</td>\n",
       "      <td>5</td>\n",
       "      <td>0</td>\n",
       "      <td>2</td>\n",
       "      <td>5</td>\n",
       "      <td>4.230769</td>\n",
       "      <td>100.000000</td>\n",
       "      <td>38.461538</td>\n",
       "    </tr>\n",
       "  </tbody>\n",
       "</table>\n",
       "</div>"
      ],
      "text/plain": [
       "                  toxic  severe_toxic  obscene  threat  insult  identity_hate  \\\n",
       "id                                                                              \n",
       "0000997932d777bf      0             0        0       0       0              0   \n",
       "000103f0d9cfb60f      0             0        0       0       0              0   \n",
       "000113f07ec002fd      0             0        0       0       0              0   \n",
       "0001b41b1c6bb37e      0             0        0       0       0              0   \n",
       "0001d958c54c6e35      0             0        0       0       0              0   \n",
       "\n",
       "                  non_toxic  count_sent  count_word  count_unique_word  \\\n",
       "id                                                                       \n",
       "0000997932d777bf          1           2          43                 41   \n",
       "000103f0d9cfb60f          1           1          17                 17   \n",
       "000113f07ec002fd          1           1          42                 39   \n",
       "0001b41b1c6bb37e          1           5         113                 82   \n",
       "0001d958c54c6e35          1           1          13                 13   \n",
       "\n",
       "                  count_letters  count_punctuations  count_words_upper  \\\n",
       "id                                                                       \n",
       "0000997932d777bf            264                  10                  2   \n",
       "000103f0d9cfb60f            112                  12                  1   \n",
       "000113f07ec002fd            233                   6                  0   \n",
       "0001b41b1c6bb37e            622                  21                  5   \n",
       "0001d958c54c6e35             67                   5                  0   \n",
       "\n",
       "                  count_words_title  count_stopwords  mean_word_len  \\\n",
       "id                                                                    \n",
       "0000997932d777bf                 11               18       5.162791   \n",
       "000103f0d9cfb60f                  3                2       5.588235   \n",
       "000113f07ec002fd                  2               20       4.571429   \n",
       "0001b41b1c6bb37e                  7               56       4.486726   \n",
       "0001d958c54c6e35                  2                5       4.230769   \n",
       "\n",
       "                  word_unique_percent  punct_percent  \n",
       "id                                                    \n",
       "0000997932d777bf            95.348837      23.255814  \n",
       "000103f0d9cfb60f           100.000000      70.588235  \n",
       "000113f07ec002fd            92.857143      14.285714  \n",
       "0001b41b1c6bb37e            72.566372      18.584071  \n",
       "0001d958c54c6e35           100.000000      38.461538  "
      ]
     },
     "execution_count": 17,
     "metadata": {},
     "output_type": "execute_result"
    }
   ],
   "source": [
    "#if the comment has no tags then it is non-toxic\n",
    "stats_df['non_toxic'] = (rowsums==0) #is there a way to add it as 1 or 0 off the bat?\n",
    "\n",
    "#convert the boolean column to 1 or 0\n",
    "stats_df = stats_df.applymap(lambda x: 1 if x == True else x)\n",
    "stats_df = stats_df.applymap(lambda x: 0 if x == False else x)\n",
    "\n",
    "stats_df.head()"
   ]
  },
  {
   "cell_type": "code",
   "execution_count": 18,
   "metadata": {},
   "outputs": [],
   "source": [
    "#Lets reorder the columns so it is easier to plot them.\n",
    "columns_order = ['toxic','severe_toxic','obscene','threat','insult','identity_hate','non_toxic','count_sent','count_word','count_unique_word','count_punctuations','count_words_upper','count_words_title','count_stopwords','mean_word_len','word_unique_percent','punct_percent', 'count_letters']\n",
    "stats_df = stats_df[columns_order]"
   ]
  },
  {
   "cell_type": "code",
   "execution_count": 19,
   "metadata": {},
   "outputs": [
    {
     "data": {
      "text/html": [
       "<div>\n",
       "<style scoped>\n",
       "    .dataframe tbody tr th:only-of-type {\n",
       "        vertical-align: middle;\n",
       "    }\n",
       "\n",
       "    .dataframe tbody tr th {\n",
       "        vertical-align: top;\n",
       "    }\n",
       "\n",
       "    .dataframe thead th {\n",
       "        text-align: right;\n",
       "    }\n",
       "</style>\n",
       "<table border=\"1\" class=\"dataframe\">\n",
       "  <thead>\n",
       "    <tr style=\"text-align: right;\">\n",
       "      <th></th>\n",
       "      <th>toxic</th>\n",
       "      <th>severe_toxic</th>\n",
       "      <th>obscene</th>\n",
       "      <th>threat</th>\n",
       "      <th>insult</th>\n",
       "      <th>identity_hate</th>\n",
       "      <th>non_toxic</th>\n",
       "    </tr>\n",
       "  </thead>\n",
       "  <tbody>\n",
       "    <tr>\n",
       "      <th>count_sent</th>\n",
       "      <td>5.092400e+04</td>\n",
       "      <td>7488.000000</td>\n",
       "      <td>2.916100e+04</td>\n",
       "      <td>1670.000000</td>\n",
       "      <td>2.591000e+04</td>\n",
       "      <td>5167.000000</td>\n",
       "      <td>5.071530e+05</td>\n",
       "    </tr>\n",
       "    <tr>\n",
       "      <th>count_word</th>\n",
       "      <td>7.844260e+05</td>\n",
       "      <td>120615.000000</td>\n",
       "      <td>4.187370e+05</td>\n",
       "      <td>26369.000000</td>\n",
       "      <td>3.802170e+05</td>\n",
       "      <td>73080.000000</td>\n",
       "      <td>9.879559e+06</td>\n",
       "    </tr>\n",
       "    <tr>\n",
       "      <th>count_unique_word</th>\n",
       "      <td>4.894650e+05</td>\n",
       "      <td>34913.000000</td>\n",
       "      <td>2.489290e+05</td>\n",
       "      <td>13364.000000</td>\n",
       "      <td>2.265200e+05</td>\n",
       "      <td>40963.000000</td>\n",
       "      <td>7.135893e+06</td>\n",
       "    </tr>\n",
       "    <tr>\n",
       "      <th>count_punctuations</th>\n",
       "      <td>2.197250e+05</td>\n",
       "      <td>47517.000000</td>\n",
       "      <td>1.162900e+05</td>\n",
       "      <td>13226.000000</td>\n",
       "      <td>1.051360e+05</td>\n",
       "      <td>16537.000000</td>\n",
       "      <td>2.298350e+06</td>\n",
       "    </tr>\n",
       "    <tr>\n",
       "      <th>count_words_upper</th>\n",
       "      <td>1.392540e+05</td>\n",
       "      <td>53744.000000</td>\n",
       "      <td>8.543500e+04</td>\n",
       "      <td>8774.000000</td>\n",
       "      <td>7.860000e+04</td>\n",
       "      <td>18813.000000</td>\n",
       "      <td>3.322140e+05</td>\n",
       "    </tr>\n",
       "    <tr>\n",
       "      <th>count_words_title</th>\n",
       "      <td>9.049600e+04</td>\n",
       "      <td>11892.000000</td>\n",
       "      <td>4.725400e+04</td>\n",
       "      <td>3454.000000</td>\n",
       "      <td>4.175200e+04</td>\n",
       "      <td>7431.000000</td>\n",
       "      <td>1.259369e+06</td>\n",
       "    </tr>\n",
       "    <tr>\n",
       "      <th>count_stopwords</th>\n",
       "      <td>3.292000e+05</td>\n",
       "      <td>40494.000000</td>\n",
       "      <td>1.703180e+05</td>\n",
       "      <td>11232.000000</td>\n",
       "      <td>1.567990e+05</td>\n",
       "      <td>26538.000000</td>\n",
       "      <td>4.456899e+06</td>\n",
       "    </tr>\n",
       "    <tr>\n",
       "      <th>mean_word_len</th>\n",
       "      <td>7.916395e+04</td>\n",
       "      <td>9664.990058</td>\n",
       "      <td>4.349477e+04</td>\n",
       "      <td>2266.695120</td>\n",
       "      <td>4.073562e+04</td>\n",
       "      <td>8785.339599</td>\n",
       "      <td>7.039446e+05</td>\n",
       "    </tr>\n",
       "    <tr>\n",
       "      <th>word_unique_percent</th>\n",
       "      <td>1.341679e+06</td>\n",
       "      <td>130872.036015</td>\n",
       "      <td>7.419877e+05</td>\n",
       "      <td>40420.538887</td>\n",
       "      <td>6.927049e+05</td>\n",
       "      <td>122161.777047</td>\n",
       "      <td>1.222293e+07</td>\n",
       "    </tr>\n",
       "    <tr>\n",
       "      <th>punct_percent</th>\n",
       "      <td>6.003434e+05</td>\n",
       "      <td>104562.420430</td>\n",
       "      <td>3.188188e+05</td>\n",
       "      <td>20304.892190</td>\n",
       "      <td>2.960618e+05</td>\n",
       "      <td>40642.880160</td>\n",
       "      <td>4.173483e+06</td>\n",
       "    </tr>\n",
       "    <tr>\n",
       "      <th>count_letters</th>\n",
       "      <td>4.515493e+06</td>\n",
       "      <td>723548.000000</td>\n",
       "      <td>2.423045e+06</td>\n",
       "      <td>147100.000000</td>\n",
       "      <td>2.184172e+06</td>\n",
       "      <td>433500.000000</td>\n",
       "      <td>5.796155e+07</td>\n",
       "    </tr>\n",
       "  </tbody>\n",
       "</table>\n",
       "</div>"
      ],
      "text/plain": [
       "                            toxic   severe_toxic       obscene         threat  \\\n",
       "count_sent           5.092400e+04    7488.000000  2.916100e+04    1670.000000   \n",
       "count_word           7.844260e+05  120615.000000  4.187370e+05   26369.000000   \n",
       "count_unique_word    4.894650e+05   34913.000000  2.489290e+05   13364.000000   \n",
       "count_punctuations   2.197250e+05   47517.000000  1.162900e+05   13226.000000   \n",
       "count_words_upper    1.392540e+05   53744.000000  8.543500e+04    8774.000000   \n",
       "count_words_title    9.049600e+04   11892.000000  4.725400e+04    3454.000000   \n",
       "count_stopwords      3.292000e+05   40494.000000  1.703180e+05   11232.000000   \n",
       "mean_word_len        7.916395e+04    9664.990058  4.349477e+04    2266.695120   \n",
       "word_unique_percent  1.341679e+06  130872.036015  7.419877e+05   40420.538887   \n",
       "punct_percent        6.003434e+05  104562.420430  3.188188e+05   20304.892190   \n",
       "count_letters        4.515493e+06  723548.000000  2.423045e+06  147100.000000   \n",
       "\n",
       "                           insult  identity_hate     non_toxic  \n",
       "count_sent           2.591000e+04    5167.000000  5.071530e+05  \n",
       "count_word           3.802170e+05   73080.000000  9.879559e+06  \n",
       "count_unique_word    2.265200e+05   40963.000000  7.135893e+06  \n",
       "count_punctuations   1.051360e+05   16537.000000  2.298350e+06  \n",
       "count_words_upper    7.860000e+04   18813.000000  3.322140e+05  \n",
       "count_words_title    4.175200e+04    7431.000000  1.259369e+06  \n",
       "count_stopwords      1.567990e+05   26538.000000  4.456899e+06  \n",
       "mean_word_len        4.073562e+04    8785.339599  7.039446e+05  \n",
       "word_unique_percent  6.927049e+05  122161.777047  1.222293e+07  \n",
       "punct_percent        2.960618e+05   40642.880160  4.173483e+06  \n",
       "count_letters        2.184172e+06  433500.000000  5.796155e+07  "
      ]
     },
     "execution_count": 19,
     "metadata": {},
     "output_type": "execute_result"
    }
   ],
   "source": [
    "#create a new DF to convert the data into something we can use to plot.\n",
    "plot_df = pd.DataFrame()\n",
    "plot_df['toxic'] = stats_df[stats_df.toxic==1].iloc[:,7:].sum()\n",
    "plot_df['severe_toxic'] = stats_df[stats_df.severe_toxic==1].iloc[:,7:].sum()\n",
    "plot_df['obscene'] = stats_df[stats_df.obscene==1].iloc[:,7:].sum()\n",
    "plot_df['threat'] = stats_df[stats_df.threat==1].iloc[:,7:].sum()\n",
    "plot_df['insult'] = stats_df[stats_df.insult==1].iloc[:,7:].sum()\n",
    "plot_df['identity_hate'] = stats_df[stats_df.identity_hate==1].iloc[:,7:].sum()\n",
    "plot_df['non_toxic'] = stats_df[stats_df.non_toxic==1].iloc[:,7:].sum()\n",
    "plot_df"
   ]
  },
  {
   "cell_type": "code",
   "execution_count": 20,
   "metadata": {},
   "outputs": [
    {
     "data": {
      "image/png": "[encoded data removed]",
      "text/plain": [
       "<Figure size 1440x720 with 1 Axes>"
      ]
     },
     "metadata": {
      "needs_background": "light"
     },
     "output_type": "display_data"
    }
   ],
   "source": [
    "plot_df.plot(kind='bar',figsize=(20,10))\n",
    "plt.show()"
   ]
  },
  {
   "cell_type": "markdown",
   "metadata": {},
   "source": [
    "The numbers in the data are to big and its hard to interpert what is happening. The data needs to be normalized to get a better sense of the numbers."
   ]
  },
  {
   "cell_type": "code",
   "execution_count": 21,
   "metadata": {},
   "outputs": [
    {
     "data": {
      "text/html": [
       "<div>\n",
       "<style scoped>\n",
       "    .dataframe tbody tr th:only-of-type {\n",
       "        vertical-align: middle;\n",
       "    }\n",
       "\n",
       "    .dataframe tbody tr th {\n",
       "        vertical-align: top;\n",
       "    }\n",
       "\n",
       "    .dataframe thead th {\n",
       "        text-align: right;\n",
       "    }\n",
       "</style>\n",
       "<table border=\"1\" class=\"dataframe\">\n",
       "  <thead>\n",
       "    <tr style=\"text-align: right;\">\n",
       "      <th></th>\n",
       "      <th>toxic</th>\n",
       "      <th>severe_toxic</th>\n",
       "      <th>obscene</th>\n",
       "      <th>threat</th>\n",
       "      <th>insult</th>\n",
       "      <th>identity_hate</th>\n",
       "      <th>non_toxic</th>\n",
       "    </tr>\n",
       "  </thead>\n",
       "  <tbody>\n",
       "    <tr>\n",
       "      <th>count_sent</th>\n",
       "      <td>0.000000</td>\n",
       "      <td>0.000000</td>\n",
       "      <td>0.000000</td>\n",
       "      <td>0.000000</td>\n",
       "      <td>0.000000</td>\n",
       "      <td>0.000000</td>\n",
       "      <td>0.003036</td>\n",
       "    </tr>\n",
       "    <tr>\n",
       "      <th>count_word</th>\n",
       "      <td>0.164294</td>\n",
       "      <td>0.157985</td>\n",
       "      <td>0.162738</td>\n",
       "      <td>0.169834</td>\n",
       "      <td>0.164163</td>\n",
       "      <td>0.158552</td>\n",
       "      <td>0.165668</td>\n",
       "    </tr>\n",
       "    <tr>\n",
       "      <th>count_unique_word</th>\n",
       "      <td>0.098227</td>\n",
       "      <td>0.038300</td>\n",
       "      <td>0.091804</td>\n",
       "      <td>0.080410</td>\n",
       "      <td>0.092950</td>\n",
       "      <td>0.083570</td>\n",
       "      <td>0.118059</td>\n",
       "    </tr>\n",
       "    <tr>\n",
       "      <th>count_punctuations</th>\n",
       "      <td>0.037809</td>\n",
       "      <td>0.055902</td>\n",
       "      <td>0.036397</td>\n",
       "      <td>0.079461</td>\n",
       "      <td>0.036708</td>\n",
       "      <td>0.026545</td>\n",
       "      <td>0.034117</td>\n",
       "    </tr>\n",
       "    <tr>\n",
       "      <th>count_words_upper</th>\n",
       "      <td>0.019785</td>\n",
       "      <td>0.064598</td>\n",
       "      <td>0.023507</td>\n",
       "      <td>0.048848</td>\n",
       "      <td>0.024413</td>\n",
       "      <td>0.031858</td>\n",
       "      <td>0.000000</td>\n",
       "    </tr>\n",
       "    <tr>\n",
       "      <th>count_words_title</th>\n",
       "      <td>0.008864</td>\n",
       "      <td>0.006150</td>\n",
       "      <td>0.007558</td>\n",
       "      <td>0.012267</td>\n",
       "      <td>0.007340</td>\n",
       "      <td>0.005286</td>\n",
       "      <td>0.016088</td>\n",
       "    </tr>\n",
       "    <tr>\n",
       "      <th>count_stopwords</th>\n",
       "      <td>0.062330</td>\n",
       "      <td>0.046094</td>\n",
       "      <td>0.058966</td>\n",
       "      <td>0.065750</td>\n",
       "      <td>0.060646</td>\n",
       "      <td>0.049893</td>\n",
       "      <td>0.071573</td>\n",
       "    </tr>\n",
       "    <tr>\n",
       "      <th>mean_word_len</th>\n",
       "      <td>0.006325</td>\n",
       "      <td>0.003040</td>\n",
       "      <td>0.005988</td>\n",
       "      <td>0.004103</td>\n",
       "      <td>0.006869</td>\n",
       "      <td>0.008447</td>\n",
       "      <td>0.006450</td>\n",
       "    </tr>\n",
       "    <tr>\n",
       "      <th>word_unique_percent</th>\n",
       "      <td>0.289111</td>\n",
       "      <td>0.172310</td>\n",
       "      <td>0.297770</td>\n",
       "      <td>0.266455</td>\n",
       "      <td>0.308950</td>\n",
       "      <td>0.273140</td>\n",
       "      <td>0.206331</td>\n",
       "    </tr>\n",
       "    <tr>\n",
       "      <th>punct_percent</th>\n",
       "      <td>0.123062</td>\n",
       "      <td>0.135567</td>\n",
       "      <td>0.120999</td>\n",
       "      <td>0.128137</td>\n",
       "      <td>0.125171</td>\n",
       "      <td>0.082823</td>\n",
       "      <td>0.066655</td>\n",
       "    </tr>\n",
       "    <tr>\n",
       "      <th>count_letters</th>\n",
       "      <td>1.000000</td>\n",
       "      <td>1.000000</td>\n",
       "      <td>1.000000</td>\n",
       "      <td>1.000000</td>\n",
       "      <td>1.000000</td>\n",
       "      <td>1.000000</td>\n",
       "      <td>1.000000</td>\n",
       "    </tr>\n",
       "  </tbody>\n",
       "</table>\n",
       "</div>"
      ],
      "text/plain": [
       "                        toxic  severe_toxic   obscene    threat    insult  \\\n",
       "count_sent           0.000000      0.000000  0.000000  0.000000  0.000000   \n",
       "count_word           0.164294      0.157985  0.162738  0.169834  0.164163   \n",
       "count_unique_word    0.098227      0.038300  0.091804  0.080410  0.092950   \n",
       "count_punctuations   0.037809      0.055902  0.036397  0.079461  0.036708   \n",
       "count_words_upper    0.019785      0.064598  0.023507  0.048848  0.024413   \n",
       "count_words_title    0.008864      0.006150  0.007558  0.012267  0.007340   \n",
       "count_stopwords      0.062330      0.046094  0.058966  0.065750  0.060646   \n",
       "mean_word_len        0.006325      0.003040  0.005988  0.004103  0.006869   \n",
       "word_unique_percent  0.289111      0.172310  0.297770  0.266455  0.308950   \n",
       "punct_percent        0.123062      0.135567  0.120999  0.128137  0.125171   \n",
       "count_letters        1.000000      1.000000  1.000000  1.000000  1.000000   \n",
       "\n",
       "                     identity_hate  non_toxic  \n",
       "count_sent                0.000000   0.003036  \n",
       "count_word                0.158552   0.165668  \n",
       "count_unique_word         0.083570   0.118059  \n",
       "count_punctuations        0.026545   0.034117  \n",
       "count_words_upper         0.031858   0.000000  \n",
       "count_words_title         0.005286   0.016088  \n",
       "count_stopwords           0.049893   0.071573  \n",
       "mean_word_len             0.008447   0.006450  \n",
       "word_unique_percent       0.273140   0.206331  \n",
       "punct_percent             0.082823   0.066655  \n",
       "count_letters             1.000000   1.000000  "
      ]
     },
     "execution_count": 21,
     "metadata": {},
     "output_type": "execute_result"
    }
   ],
   "source": [
    "normalized_df = ((plot_df-plot_df.min())/(plot_df.max()-plot_df.min()))\n",
    "normalized_df"
   ]
  },
  {
   "cell_type": "code",
   "execution_count": 22,
   "metadata": {},
   "outputs": [
    {
     "data": {
      "image/png": "[encoded data removed]",
      "text/plain": [
       "<Figure size 1440x720 with 1 Axes>"
      ]
     },
     "metadata": {
      "needs_background": "light"
     },
     "output_type": "display_data"
    }
   ],
   "source": [
    "normalized_df.plot(kind='bar',figsize=(20,10))\n",
    "plt.show()"
   ]
  },
  {
   "cell_type": "markdown",
   "metadata": {},
   "source": [
    "It looks like the selected features is not indicative of being toxic. The amount of words or puntuation does not mean that you are more or less likely to be toxic.  "
   ]
  },
  {
   "cell_type": "code",
   "execution_count": null,
   "metadata": {},
   "outputs": [],
   "source": []
  },
  {
   "cell_type": "code",
   "execution_count": null,
   "metadata": {},
   "outputs": [],
   "source": []
  },
  {
   "cell_type": "markdown",
   "metadata": {},
   "source": [
    "# <a name=\"clean\"></a> Clean the Comments\n",
    "---\n",
    "In this section I need to clean the comments. This is done by splitting the comments into tokens that we can then lemmatize (or get the root of the word) followed by eliminating any stop words and non-alphabetic elements."
   ]
  },
  {
   "cell_type": "code",
   "execution_count": 23,
   "metadata": {},
   "outputs": [],
   "source": [
    "from nltk.tokenize import word_tokenize\n",
    "from nltk.stem.wordnet import WordNetLemmatizer\n",
    "from tqdm import tqdm, tqdm_pandas, tqdm_notebook\n",
    "\n",
    "lem = WordNetLemmatizer()\n",
    "tqdm.pandas()"
   ]
  },
  {
   "cell_type": "code",
   "execution_count": 24,
   "metadata": {},
   "outputs": [],
   "source": [
    "def clean_comment(text):\n",
    "    \n",
    "    #split into words\n",
    "    tokens = word_tokenize(text)\n",
    "    \n",
    "    #change words to lower case and lemmatize\n",
    "    stemmed = [lem.lemmatize(word.lower()) for word in tokens]\n",
    "    \n",
    "    #remove stop words\n",
    "    words = [w for w in stemmed if not w in eng_stopwords]\n",
    "    \n",
    "    #remove anything non-alphabetic\n",
    "    clean_words = [word for word in words if word.isalpha()]\n",
    "    \n",
    "    #append to string\n",
    "    clean_comment = \" \".join(clean_words)\n",
    "    \n",
    "    return clean_comment"
   ]
  },
  {
   "cell_type": "code",
   "execution_count": 25,
   "metadata": {},
   "outputs": [
    {
     "data": {
      "text/plain": [
       "'\"\\n\\n NOTE If you read above, and follow the links, any reader can see that I cited correctly the links I added on this subject. Vidkun has added anotations to make them read as the oposite, but these links show the \"\"official\"\" line taken by UGLE. I will not be trapped by any User into so-called 3RR, so he can peddle his POV. Strangly, ALL other \"\"MASONS\"\" are quiet, leaving ‘‘me’’ to defend that factual truth on my own. \"\"Thanks\"\" Brethren. Sitting any blocking out if given...  \"'"
      ]
     },
     "execution_count": 25,
     "metadata": {},
     "output_type": "execute_result"
    }
   ],
   "source": [
    "train_df.iloc[12235].comment_text"
   ]
  },
  {
   "cell_type": "code",
   "execution_count": 26,
   "metadata": {},
   "outputs": [
    {
     "data": {
      "text/plain": [
       "'note read follow link reader see cited correctly link added subject vidkun ha added anotations make read oposite link show official line taken ugle trapped user peddle pov strangly mason quiet leaving defend factual truth thanks brother sitting blocking given'"
      ]
     },
     "execution_count": 26,
     "metadata": {},
     "output_type": "execute_result"
    }
   ],
   "source": [
    "clean_comment(train_df.iloc[12235].comment_text)"
   ]
  },
  {
   "cell_type": "code",
   "execution_count": 27,
   "metadata": {
    "scrolled": true
   },
   "outputs": [
    {
     "name": "stderr",
     "output_type": "stream",
     "text": [
      "100%|████████████████████████████████| 159571/159571 [01:58<00:00, 1346.89it/s]\n"
     ]
    }
   ],
   "source": [
    "train_df.comment_text = train_df.comment_text.progress_apply(lambda x: clean_comment(x))"
   ]
  },
  {
   "cell_type": "markdown",
   "metadata": {},
   "source": [
    "## <a name=\"wordcloud\"></a>Word Frequency with Word Cloud\n",
    "\n",
    "---\n",
    "The word clouds been removed from this notebook as it contains some graphic and vulgar language. If you wish to view the word clouds copy the following code to a new cell and run it. The code snippet to display the word cloud with load into the cell and you can then rerun the cell to view the word clouds. \n",
    "\n",
    "\n",
    "%load snippets/wordcloud.py"
   ]
  },
  {
   "cell_type": "markdown",
   "metadata": {},
   "source": [
    "# Creating the model\n",
    "---\n",
    "\n",
    "In this section I will create the model that I will use to predcit the classification of the test_df comments."
   ]
  },
  {
   "cell_type": "code",
   "execution_count": 28,
   "metadata": {},
   "outputs": [],
   "source": [
    "from sklearn.naive_bayes import MultinomialNB\n",
    "from sklearn.feature_extraction.text import CountVectorizer\n",
    "from sklearn.model_selection import train_test_split\n",
    "from sklearn import metrics\n",
    "\n",
    "nb_classifier = MultinomialNB()\n",
    "count_vectorizer = CountVectorizer(stop_words='english')"
   ]
  },
  {
   "cell_type": "code",
   "execution_count": 29,
   "metadata": {},
   "outputs": [],
   "source": [
    "#remove any comment with multiple tags\n",
    "train_df = train_df[train_df.iloc[:,1:].sum(axis=1) == 1]"
   ]
  },
  {
   "cell_type": "code",
   "execution_count": 30,
   "metadata": {},
   "outputs": [
    {
     "data": {
      "text/html": [
       "<div>\n",
       "<style scoped>\n",
       "    .dataframe tbody tr th:only-of-type {\n",
       "        vertical-align: middle;\n",
       "    }\n",
       "\n",
       "    .dataframe tbody tr th {\n",
       "        vertical-align: top;\n",
       "    }\n",
       "\n",
       "    .dataframe thead th {\n",
       "        text-align: right;\n",
       "    }\n",
       "</style>\n",
       "<table border=\"1\" class=\"dataframe\">\n",
       "  <thead>\n",
       "    <tr style=\"text-align: right;\">\n",
       "      <th></th>\n",
       "      <th>comment_text</th>\n",
       "      <th>toxic</th>\n",
       "      <th>severe_toxic</th>\n",
       "      <th>obscene</th>\n",
       "      <th>threat</th>\n",
       "      <th>insult</th>\n",
       "      <th>identity_hate</th>\n",
       "      <th>non_toxic</th>\n",
       "      <th>classification</th>\n",
       "    </tr>\n",
       "    <tr>\n",
       "      <th>id</th>\n",
       "      <th></th>\n",
       "      <th></th>\n",
       "      <th></th>\n",
       "      <th></th>\n",
       "      <th></th>\n",
       "      <th></th>\n",
       "      <th></th>\n",
       "      <th></th>\n",
       "      <th></th>\n",
       "    </tr>\n",
       "  </thead>\n",
       "  <tbody>\n",
       "    <tr>\n",
       "      <th>0000997932d777bf</th>\n",
       "      <td>explanation edits made username hardcore metal...</td>\n",
       "      <td>0</td>\n",
       "      <td>0</td>\n",
       "      <td>0</td>\n",
       "      <td>0</td>\n",
       "      <td>0</td>\n",
       "      <td>0</td>\n",
       "      <td>7</td>\n",
       "      <td>7</td>\n",
       "    </tr>\n",
       "    <tr>\n",
       "      <th>000103f0d9cfb60f</th>\n",
       "      <td>match background colour seemingly stuck thanks...</td>\n",
       "      <td>0</td>\n",
       "      <td>0</td>\n",
       "      <td>0</td>\n",
       "      <td>0</td>\n",
       "      <td>0</td>\n",
       "      <td>0</td>\n",
       "      <td>7</td>\n",
       "      <td>7</td>\n",
       "    </tr>\n",
       "    <tr>\n",
       "      <th>000113f07ec002fd</th>\n",
       "      <td>hey man really trying edit war guy constantly ...</td>\n",
       "      <td>0</td>\n",
       "      <td>0</td>\n",
       "      <td>0</td>\n",
       "      <td>0</td>\n",
       "      <td>0</td>\n",
       "      <td>0</td>\n",
       "      <td>7</td>\n",
       "      <td>7</td>\n",
       "    </tr>\n",
       "    <tr>\n",
       "      <th>0001b41b1c6bb37e</th>\n",
       "      <td>ca make real suggestion improvement wondered s...</td>\n",
       "      <td>0</td>\n",
       "      <td>0</td>\n",
       "      <td>0</td>\n",
       "      <td>0</td>\n",
       "      <td>0</td>\n",
       "      <td>0</td>\n",
       "      <td>7</td>\n",
       "      <td>7</td>\n",
       "    </tr>\n",
       "    <tr>\n",
       "      <th>0001d958c54c6e35</th>\n",
       "      <td>sir hero chance remember page</td>\n",
       "      <td>0</td>\n",
       "      <td>0</td>\n",
       "      <td>0</td>\n",
       "      <td>0</td>\n",
       "      <td>0</td>\n",
       "      <td>0</td>\n",
       "      <td>7</td>\n",
       "      <td>7</td>\n",
       "    </tr>\n",
       "  </tbody>\n",
       "</table>\n",
       "</div>"
      ],
      "text/plain": [
       "                                                       comment_text  toxic  \\\n",
       "id                                                                           \n",
       "0000997932d777bf  explanation edits made username hardcore metal...      0   \n",
       "000103f0d9cfb60f  match background colour seemingly stuck thanks...      0   \n",
       "000113f07ec002fd  hey man really trying edit war guy constantly ...      0   \n",
       "0001b41b1c6bb37e  ca make real suggestion improvement wondered s...      0   \n",
       "0001d958c54c6e35                      sir hero chance remember page      0   \n",
       "\n",
       "                  severe_toxic  obscene  threat  insult  identity_hate  \\\n",
       "id                                                                       \n",
       "0000997932d777bf             0        0       0       0              0   \n",
       "000103f0d9cfb60f             0        0       0       0              0   \n",
       "000113f07ec002fd             0        0       0       0              0   \n",
       "0001b41b1c6bb37e             0        0       0       0              0   \n",
       "0001d958c54c6e35             0        0       0       0              0   \n",
       "\n",
       "                  non_toxic  classification  \n",
       "id                                           \n",
       "0000997932d777bf          7               7  \n",
       "000103f0d9cfb60f          7               7  \n",
       "000113f07ec002fd          7               7  \n",
       "0001b41b1c6bb37e          7               7  \n",
       "0001d958c54c6e35          7               7  "
      ]
     },
     "execution_count": 30,
     "metadata": {},
     "output_type": "execute_result"
    }
   ],
   "source": [
    "#To be able to use the the model I want I need to reshape the df. \n",
    "\n",
    "#Map the tag into a unique integer\n",
    "train_df['severe_toxic'] = train_df['severe_toxic'].apply(lambda x: 2 if x == 1 else x)\n",
    "train_df['obscene'] = train_df['obscene'].apply(lambda x: 3 if x == 1 else x)\n",
    "train_df['threat'] = train_df['threat'].apply(lambda x: 4 if x == 1 else x)\n",
    "train_df['insult'] = train_df['insult'].apply(lambda x: 5 if x == 1 else x)\n",
    "train_df['identity_hate'] = train_df['identity_hate'].apply(lambda x: 6 if x == 1 else x)\n",
    "train_df['non_toxic'] = train_df['non_toxic'].apply(lambda x: 7 if x == 1 else x)\n",
    "\n",
    "#create one column with the classification\n",
    "train_df['classification'] = train_df['toxic']+train_df['severe_toxic']+train_df['obscene']+train_df['threat']+train_df['insult']+train_df['identity_hate']+train_df['non_toxic']\n",
    "train_df.head()"
   ]
  },
  {
   "cell_type": "code",
   "execution_count": 39,
   "metadata": {},
   "outputs": [],
   "source": [
    "y = train_df['classification']\n",
    "\n",
    "X_train, X_test, y_train, y_test = train_test_split(train_df['comment_text'], y, test_size=0.33, random_state=53)"
   ]
  },
  {
   "cell_type": "code",
   "execution_count": 42,
   "metadata": {},
   "outputs": [],
   "source": [
    "count_train = count_vectorizer.fit_transform(X_train)\n",
    "count_test = count_vectorizer.transform(X_test)"
   ]
  },
  {
   "cell_type": "code",
   "execution_count": 43,
   "metadata": {},
   "outputs": [],
   "source": [
    "# Fit the classifier to the training data\n",
    "nb_classifier.fit(count_train, y_train)\n",
    "\n",
    "# Create the predicted tags: pred\n",
    "pred = nb_classifier.predict(count_test)"
   ]
  },
  {
   "cell_type": "code",
   "execution_count": 44,
   "metadata": {},
   "outputs": [
    {
     "name": "stdout",
     "output_type": "stream",
     "text": [
      "0.9573912515434285\n",
      "[[  242     0     0     0     0     0  1636]\n",
      " [    0     0     0     0     0     0     0]\n",
      " [    7     0     0     0     0     0   106]\n",
      " [    1     0     0     0     0     0     7]\n",
      " [    8     0     0     0     0     0    87]\n",
      " [    0     0     0     0     0     0    15]\n",
      " [  234     0     3     1     0     0 47056]]\n"
     ]
    }
   ],
   "source": [
    "# Calculate the accuracy score: score\n",
    "score = metrics.accuracy_score(y_test, pred)\n",
    "print(score)\n",
    "\n",
    "# Calculate the confusion matrix: cm\n",
    "cm = metrics.confusion_matrix(y_test, pred, labels=[1, 2, 3, 4, 5 ,6 ,7])\n",
    "print(cm)"
   ]
  },
  {
   "cell_type": "code",
   "execution_count": null,
   "metadata": {},
   "outputs": [],
   "source": []
  },
  {
   "cell_type": "code",
   "execution_count": null,
   "metadata": {},
   "outputs": [],
   "source": []
  },
  {
   "cell_type": "markdown",
   "metadata": {},
   "source": [
    "Verifying the model"
   ]
  },
  {
   "cell_type": "code",
   "execution_count": 45,
   "metadata": {},
   "outputs": [
    {
     "data": {
      "text/plain": [
       "id\n",
       "0000997932d777bf    explanation edits made username hardcore metal...\n",
       "Name: comment_text, dtype: object"
      ]
     },
     "execution_count": 45,
     "metadata": {},
     "output_type": "execute_result"
    }
   ],
   "source": [
    "train_df.loc[['0000997932d777bf']].comment_text"
   ]
  },
  {
   "cell_type": "code",
   "execution_count": 47,
   "metadata": {},
   "outputs": [],
   "source": [
    "txt = count_vectorizer.transform(train_df.loc[['0000997932d777bf']].comment_text)"
   ]
  },
  {
   "cell_type": "code",
   "execution_count": 48,
   "metadata": {},
   "outputs": [
    {
     "data": {
      "text/plain": [
       "array([7], dtype=int64)"
      ]
     },
     "execution_count": 48,
     "metadata": {},
     "output_type": "execute_result"
    }
   ],
   "source": [
    "pred_text = nb_classifier.predict(txt)\n",
    "pred_text"
   ]
  },
  {
   "cell_type": "code",
   "execution_count": null,
   "metadata": {},
   "outputs": [],
   "source": []
  }
 ],
 "metadata": {
  "kernelspec": {
   "display_name": "Python 3",
   "language": "python",
   "name": "python3"
  },
  "language_info": {
   "codemirror_mode": {
    "name": "ipython",
    "version": 3
   },
   "file_extension": ".py",
   "mimetype": "text/x-python",
   "name": "python",
   "nbconvert_exporter": "python",
   "pygments_lexer": "ipython3",
   "version": "3.7.0"
  }
 },
 "nbformat": 4,
 "nbformat_minor": 2
}
